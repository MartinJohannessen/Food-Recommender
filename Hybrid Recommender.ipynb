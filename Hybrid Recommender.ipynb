{
 "cells": [
  {
   "cell_type": "markdown",
   "metadata": {},
   "source": [
    "# Hybrid Recommenders"
   ]
  },
  {
   "cell_type": "markdown",
   "metadata": {},
   "source": [
    "We have discussed a few problems that different recommender approaches have, such as the cold-start problem in collaborative filtering. Some of these problems can be resolved by using a different recommender approach in the start-up phase (e.g., using a content-based approach). In this Python notebook, I will present a simple hybdrif recommender that combines the content and the collaborative filters that we've built so far."
   ]
  },
  {
   "cell_type": "code",
   "execution_count": 2,
   "metadata": {},
   "outputs": [],
   "source": [
    "#Import the relevant packages\n",
    "import numpy as np\n",
    "import pandas as pd"
   ]
  },
  {
   "cell_type": "markdown",
   "metadata": {},
   "source": [
    "#### Introduction\n",
    "Netflix is a very good example of a hybrid recommender. It employs content-based technqiues when it shows you similar movies to a movie you're watching (the \"more like this\" section). These are typically content-based. However, most of the times, you would use a collaborative filter (\"Top picks for you\").\n",
    "\n",
    "#### Case Study\n",
    "Imagine that you've built a Netflix-like website. Each time a user watches a movie, you want to display a list of recommendations in the side pane (a bit like Youtube). A content-based recommender would then seem appropriate. However, let's say if a user would be watching the Dark Knight, this would lead to more Batman movie recommendations (not necessarily other superhero movies), which might be of poor quality. This requires a collaborative filter, which predicts the ratings of the movies recommender by our content-based model and return the top few movies with the highest predictions.\n",
    "\n",
    "#### Workflow\n",
    "1. Take in a movie title and user as input.\n",
    "2. Use a content-based model to compute the 25 most similar movies.\n",
    "3. Compute the predicted ratings that the use might give these 25 movies using a collaborative filter.\n",
    "4. Return the top 10 movies with the highest predicted rating."
   ]
  },
  {
   "cell_type": "code",
   "execution_count": 4,
   "metadata": {},
   "outputs": [],
   "source": [
    "#Import or compute the cosine_sim matrix\n",
    "cosine_sim = pd.read_csv('../data/cosine_sim.csv')"
   ]
  },
  {
   "cell_type": "markdown",
   "metadata": {},
   "source": [
    "Normally I would ask you to compute the cosine similarity matrix, but the file above already has the scores. You can try to do it yourself in your own time!"
   ]
  },
  {
   "cell_type": "code",
   "execution_count": 23,
   "metadata": {},
   "outputs": [],
   "source": [
    "#Import or compute the cosine sim mapping matrix\n",
    "cosine_sim_map = pd.read_csv('../data/cosine_sim_map.csv', header=None)\n",
    "\n",
    "#Convert cosine_sim_map into a Pandas Series\n",
    "cosine_sim_map = cosine_sim_map.set_index(0)\n",
    "cosine_sim_map = cosine_sim_map[1]"
   ]
  },
  {
   "cell_type": "markdown",
   "metadata": {},
   "source": [
    "Now we import another csv-file to build a CF model. We will use the SVD model from the last chapter for this purpose, albeit with slightly different syntax"
   ]
  },
  {
   "cell_type": "code",
   "execution_count": 29,
   "metadata": {},
   "outputs": [
    {
     "data": {
      "text/plain": [
       "<surprise.prediction_algorithms.matrix_factorization.SVD at 0x21f4f279308>"
      ]
     },
     "execution_count": 29,
     "metadata": {},
     "output_type": "execute_result"
    }
   ],
   "source": [
    "#Build the SVD based Collaborative filter\n",
    "from surprise import SVD, Reader, Dataset\n",
    "\n",
    "reader = Reader()\n",
    "ratings = pd.read_csv('../data/ratings_small.csv')\n",
    "data = Dataset.load_from_df(ratings[['userId', 'movieId', 'rating']], reader)\n",
    "svd = SVD()\n",
    "trainset = data.build_full_trainset()\n",
    "svd.fit(trainset)"
   ]
  },
  {
   "cell_type": "markdown",
   "metadata": {},
   "source": [
    "Yet another file to important to map metadata to the CF data."
   ]
  },
  {
   "cell_type": "code",
   "execution_count": 36,
   "metadata": {},
   "outputs": [],
   "source": [
    "#Build title to ID and ID to title mappings\n",
    "id_map = pd.read_csv('../data/movie_ids.csv')\n",
    "id_to_title = id_map.set_index('id')\n",
    "title_to_id = id_map.set_index('title')"
   ]
  },
  {
   "cell_type": "markdown",
   "metadata": {},
   "source": [
    "Import metadata so that you can inspect the year of release and the IMDB rating"
   ]
  },
  {
   "cell_type": "code",
   "execution_count": 32,
   "metadata": {},
   "outputs": [],
   "source": [
    "#Import or compute relevant metadata of the movies\n",
    "smd = pd.read_csv('../data/metadata_small.csv')"
   ]
  },
  {
   "cell_type": "markdown",
   "metadata": {},
   "source": [
    "Below is the hybrid recommender according to the workflow described earlier"
   ]
  },
  {
   "cell_type": "code",
   "execution_count": 33,
   "metadata": {},
   "outputs": [],
   "source": [
    "def hybrid(userId, title):\n",
    "    #Extract the cosine_sim index of the movie\n",
    "    idx = cosine_sim_map[title]\n",
    "    \n",
    "    #Extract the TMDB ID of the movie\n",
    "    tmdbId = title_to_id.loc[title]['id']\n",
    "    \n",
    "    #Extract the movie ID internally assigned by the dataset\n",
    "    movie_id = title_to_id.loc[title]['movieId']\n",
    "    \n",
    "    #Extract the similarity scores and their corresponding index for every movie from the cosine_sim matrix\n",
    "    sim_scores = list(enumerate(cosine_sim[str(int(idx))]))\n",
    "    \n",
    "    #Sort the (index, score) tuples in decreasing order of similarity scores\n",
    "    sim_scores = sorted(sim_scores, key=lambda x: x[1], reverse=True)\n",
    "    \n",
    "    #Select the top 25 tuples, excluding the first \n",
    "    #(as it is the similarity score of the movie with itself)\n",
    "    sim_scores = sim_scores[1:26]\n",
    "    \n",
    "    #Store the cosine_sim indices of the top 25 movies in a list\n",
    "    movie_indices = [i[0] for i in sim_scores]\n",
    "\n",
    "    #Extract the metadata of the aforementioned movies\n",
    "    movies = smd.iloc[movie_indices][['title', 'vote_count', 'vote_average', 'year', 'id']]\n",
    "    \n",
    "    #Compute the predicted ratings using the SVD filter\n",
    "    movies['est'] = movies['id'].apply(lambda x: svd.predict(userId, id_to_title.loc[x]['movieId']).est)\n",
    "    \n",
    "    #Sort the movies in decreasing order of predicted rating\n",
    "    movies = movies.sort_values('est', ascending=False)\n",
    "    \n",
    "    #Return the top 10 movies as recommendations\n",
    "    return movies.head(10)"
   ]
  },
  {
   "cell_type": "markdown",
   "metadata": {},
   "source": [
    "Below, you can test the hybrid recommender model. Let's imagine that users with the IDS 1 and 2 are both watching the movie Avatar. You can see that both the content and the order recommended to them differ. This is due to the collaborative filter. However, alle the movies are similar to Avatar, due to the content-based approach."
   ]
  },
  {
   "cell_type": "code",
   "execution_count": 37,
   "metadata": {},
   "outputs": [
    {
     "data": {
      "text/html": [
       "<div>\n",
       "<style scoped>\n",
       "    .dataframe tbody tr th:only-of-type {\n",
       "        vertical-align: middle;\n",
       "    }\n",
       "\n",
       "    .dataframe tbody tr th {\n",
       "        vertical-align: top;\n",
       "    }\n",
       "\n",
       "    .dataframe thead th {\n",
       "        text-align: right;\n",
       "    }\n",
       "</style>\n",
       "<table border=\"1\" class=\"dataframe\">\n",
       "  <thead>\n",
       "    <tr style=\"text-align: right;\">\n",
       "      <th></th>\n",
       "      <th>title</th>\n",
       "      <th>vote_count</th>\n",
       "      <th>vote_average</th>\n",
       "      <th>year</th>\n",
       "      <th>id</th>\n",
       "      <th>est</th>\n",
       "    </tr>\n",
       "  </thead>\n",
       "  <tbody>\n",
       "    <tr>\n",
       "      <th>522</th>\n",
       "      <td>Terminator 2: Judgment Day</td>\n",
       "      <td>4274.0</td>\n",
       "      <td>7.7</td>\n",
       "      <td>1991</td>\n",
       "      <td>280</td>\n",
       "      <td>3.209727</td>\n",
       "    </tr>\n",
       "    <tr>\n",
       "      <th>974</th>\n",
       "      <td>Aliens</td>\n",
       "      <td>3282.0</td>\n",
       "      <td>7.7</td>\n",
       "      <td>1986</td>\n",
       "      <td>679</td>\n",
       "      <td>3.193526</td>\n",
       "    </tr>\n",
       "    <tr>\n",
       "      <th>1011</th>\n",
       "      <td>The Terminator</td>\n",
       "      <td>4208.0</td>\n",
       "      <td>7.4</td>\n",
       "      <td>1984</td>\n",
       "      <td>218</td>\n",
       "      <td>3.067890</td>\n",
       "    </tr>\n",
       "    <tr>\n",
       "      <th>922</th>\n",
       "      <td>The Abyss</td>\n",
       "      <td>822.0</td>\n",
       "      <td>7.1</td>\n",
       "      <td>1989</td>\n",
       "      <td>2756</td>\n",
       "      <td>3.025943</td>\n",
       "    </tr>\n",
       "    <tr>\n",
       "      <th>2834</th>\n",
       "      <td>Predator</td>\n",
       "      <td>2129.0</td>\n",
       "      <td>7.3</td>\n",
       "      <td>1987</td>\n",
       "      <td>106</td>\n",
       "      <td>2.976406</td>\n",
       "    </tr>\n",
       "    <tr>\n",
       "      <th>2014</th>\n",
       "      <td>Fantastic Planet</td>\n",
       "      <td>140.0</td>\n",
       "      <td>7.6</td>\n",
       "      <td>1973</td>\n",
       "      <td>16306</td>\n",
       "      <td>2.848557</td>\n",
       "    </tr>\n",
       "    <tr>\n",
       "      <th>7705</th>\n",
       "      <td>Alice in Wonderland</td>\n",
       "      <td>8.0</td>\n",
       "      <td>5.4</td>\n",
       "      <td>1933</td>\n",
       "      <td>25694</td>\n",
       "      <td>2.848225</td>\n",
       "    </tr>\n",
       "    <tr>\n",
       "      <th>8658</th>\n",
       "      <td>X-Men: Days of Future Past</td>\n",
       "      <td>6155.0</td>\n",
       "      <td>7.5</td>\n",
       "      <td>2014</td>\n",
       "      <td>127585</td>\n",
       "      <td>2.787715</td>\n",
       "    </tr>\n",
       "    <tr>\n",
       "      <th>8401</th>\n",
       "      <td>Star Trek Into Darkness</td>\n",
       "      <td>4479.0</td>\n",
       "      <td>7.4</td>\n",
       "      <td>2013</td>\n",
       "      <td>54138</td>\n",
       "      <td>2.750236</td>\n",
       "    </tr>\n",
       "    <tr>\n",
       "      <th>1621</th>\n",
       "      <td>Darby O'Gill and the Little People</td>\n",
       "      <td>35.0</td>\n",
       "      <td>6.7</td>\n",
       "      <td>1959</td>\n",
       "      <td>18887</td>\n",
       "      <td>2.675153</td>\n",
       "    </tr>\n",
       "  </tbody>\n",
       "</table>\n",
       "</div>"
      ],
      "text/plain": [
       "                                   title  vote_count  vote_average  year  \\\n",
       "522           Terminator 2: Judgment Day      4274.0           7.7  1991   \n",
       "974                               Aliens      3282.0           7.7  1986   \n",
       "1011                      The Terminator      4208.0           7.4  1984   \n",
       "922                            The Abyss       822.0           7.1  1989   \n",
       "2834                            Predator      2129.0           7.3  1987   \n",
       "2014                    Fantastic Planet       140.0           7.6  1973   \n",
       "7705                 Alice in Wonderland         8.0           5.4  1933   \n",
       "8658          X-Men: Days of Future Past      6155.0           7.5  2014   \n",
       "8401             Star Trek Into Darkness      4479.0           7.4  2013   \n",
       "1621  Darby O'Gill and the Little People        35.0           6.7  1959   \n",
       "\n",
       "          id       est  \n",
       "522      280  3.209727  \n",
       "974      679  3.193526  \n",
       "1011     218  3.067890  \n",
       "922     2756  3.025943  \n",
       "2834     106  2.976406  \n",
       "2014   16306  2.848557  \n",
       "7705   25694  2.848225  \n",
       "8658  127585  2.787715  \n",
       "8401   54138  2.750236  \n",
       "1621   18887  2.675153  "
      ]
     },
     "execution_count": 37,
     "metadata": {},
     "output_type": "execute_result"
    }
   ],
   "source": [
    "hybrid(1, 'Avatar')"
   ]
  },
  {
   "cell_type": "code",
   "execution_count": 38,
   "metadata": {},
   "outputs": [
    {
     "data": {
      "text/html": [
       "<div>\n",
       "<style scoped>\n",
       "    .dataframe tbody tr th:only-of-type {\n",
       "        vertical-align: middle;\n",
       "    }\n",
       "\n",
       "    .dataframe tbody tr th {\n",
       "        vertical-align: top;\n",
       "    }\n",
       "\n",
       "    .dataframe thead th {\n",
       "        text-align: right;\n",
       "    }\n",
       "</style>\n",
       "<table border=\"1\" class=\"dataframe\">\n",
       "  <thead>\n",
       "    <tr style=\"text-align: right;\">\n",
       "      <th></th>\n",
       "      <th>title</th>\n",
       "      <th>vote_count</th>\n",
       "      <th>vote_average</th>\n",
       "      <th>year</th>\n",
       "      <th>id</th>\n",
       "      <th>est</th>\n",
       "    </tr>\n",
       "  </thead>\n",
       "  <tbody>\n",
       "    <tr>\n",
       "      <th>522</th>\n",
       "      <td>Terminator 2: Judgment Day</td>\n",
       "      <td>4274.0</td>\n",
       "      <td>7.7</td>\n",
       "      <td>1991</td>\n",
       "      <td>280</td>\n",
       "      <td>4.160931</td>\n",
       "    </tr>\n",
       "    <tr>\n",
       "      <th>1011</th>\n",
       "      <td>The Terminator</td>\n",
       "      <td>4208.0</td>\n",
       "      <td>7.4</td>\n",
       "      <td>1984</td>\n",
       "      <td>218</td>\n",
       "      <td>3.942202</td>\n",
       "    </tr>\n",
       "    <tr>\n",
       "      <th>8401</th>\n",
       "      <td>Star Trek Into Darkness</td>\n",
       "      <td>4479.0</td>\n",
       "      <td>7.4</td>\n",
       "      <td>2013</td>\n",
       "      <td>54138</td>\n",
       "      <td>3.907942</td>\n",
       "    </tr>\n",
       "    <tr>\n",
       "      <th>7705</th>\n",
       "      <td>Alice in Wonderland</td>\n",
       "      <td>8.0</td>\n",
       "      <td>5.4</td>\n",
       "      <td>1933</td>\n",
       "      <td>25694</td>\n",
       "      <td>3.782791</td>\n",
       "    </tr>\n",
       "    <tr>\n",
       "      <th>974</th>\n",
       "      <td>Aliens</td>\n",
       "      <td>3282.0</td>\n",
       "      <td>7.7</td>\n",
       "      <td>1986</td>\n",
       "      <td>679</td>\n",
       "      <td>3.772583</td>\n",
       "    </tr>\n",
       "    <tr>\n",
       "      <th>2834</th>\n",
       "      <td>Predator</td>\n",
       "      <td>2129.0</td>\n",
       "      <td>7.3</td>\n",
       "      <td>1987</td>\n",
       "      <td>106</td>\n",
       "      <td>3.694343</td>\n",
       "    </tr>\n",
       "    <tr>\n",
       "      <th>1668</th>\n",
       "      <td>Return from Witch Mountain</td>\n",
       "      <td>38.0</td>\n",
       "      <td>5.6</td>\n",
       "      <td>1978</td>\n",
       "      <td>14822</td>\n",
       "      <td>3.686929</td>\n",
       "    </tr>\n",
       "    <tr>\n",
       "      <th>7088</th>\n",
       "      <td>Star Wars: The Clone Wars</td>\n",
       "      <td>434.0</td>\n",
       "      <td>5.8</td>\n",
       "      <td>2008</td>\n",
       "      <td>12180</td>\n",
       "      <td>3.653427</td>\n",
       "    </tr>\n",
       "    <tr>\n",
       "      <th>2014</th>\n",
       "      <td>Fantastic Planet</td>\n",
       "      <td>140.0</td>\n",
       "      <td>7.6</td>\n",
       "      <td>1973</td>\n",
       "      <td>16306</td>\n",
       "      <td>3.635466</td>\n",
       "    </tr>\n",
       "    <tr>\n",
       "      <th>922</th>\n",
       "      <td>The Abyss</td>\n",
       "      <td>822.0</td>\n",
       "      <td>7.1</td>\n",
       "      <td>1989</td>\n",
       "      <td>2756</td>\n",
       "      <td>3.616338</td>\n",
       "    </tr>\n",
       "  </tbody>\n",
       "</table>\n",
       "</div>"
      ],
      "text/plain": [
       "                           title  vote_count  vote_average  year     id  \\\n",
       "522   Terminator 2: Judgment Day      4274.0           7.7  1991    280   \n",
       "1011              The Terminator      4208.0           7.4  1984    218   \n",
       "8401     Star Trek Into Darkness      4479.0           7.4  2013  54138   \n",
       "7705         Alice in Wonderland         8.0           5.4  1933  25694   \n",
       "974                       Aliens      3282.0           7.7  1986    679   \n",
       "2834                    Predator      2129.0           7.3  1987    106   \n",
       "1668  Return from Witch Mountain        38.0           5.6  1978  14822   \n",
       "7088   Star Wars: The Clone Wars       434.0           5.8  2008  12180   \n",
       "2014            Fantastic Planet       140.0           7.6  1973  16306   \n",
       "922                    The Abyss       822.0           7.1  1989   2756   \n",
       "\n",
       "           est  \n",
       "522   4.160931  \n",
       "1011  3.942202  \n",
       "8401  3.907942  \n",
       "7705  3.782791  \n",
       "974   3.772583  \n",
       "2834  3.694343  \n",
       "1668  3.686929  \n",
       "7088  3.653427  \n",
       "2014  3.635466  \n",
       "922   3.616338  "
      ]
     },
     "execution_count": 38,
     "metadata": {},
     "output_type": "execute_result"
    }
   ],
   "source": [
    "hybrid(2, 'Avatar')"
   ]
  },
  {
   "cell_type": "code",
   "execution_count": null,
   "metadata": {},
   "outputs": [],
   "source": []
  },
  {
   "cell_type": "code",
   "execution_count": null,
   "metadata": {
    "collapsed": true
   },
   "outputs": [],
   "source": []
  }
 ],
 "metadata": {
  "kernelspec": {
   "display_name": "Python 3",
   "language": "python",
   "name": "python3"
  },
  "language_info": {
   "codemirror_mode": {
    "name": "ipython",
    "version": 3
   },
   "file_extension": ".py",
   "mimetype": "text/x-python",
   "name": "python",
   "nbconvert_exporter": "python",
   "pygments_lexer": "ipython3",
   "version": "3.8.6"
  }
 },
 "nbformat": 4,
 "nbformat_minor": 2
}
