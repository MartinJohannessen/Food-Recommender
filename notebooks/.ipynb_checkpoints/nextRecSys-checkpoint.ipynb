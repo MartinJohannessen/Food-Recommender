{
 "cells": [
  {
   "cell_type": "code",
   "execution_count": 1,
   "metadata": {},
   "outputs": [],
   "source": [
    "import pandas as pd\n",
    "import numpy as np"
   ]
  },
  {
   "cell_type": "code",
   "execution_count": 2,
   "metadata": {},
   "outputs": [],
   "source": [
    "from collections import defaultdict"
   ]
  },
  {
   "cell_type": "code",
   "execution_count": 3,
   "metadata": {},
   "outputs": [],
   "source": [
    "BMJ_data_all__b_new = pd.read_csv('../input/BMJ-data-all--b-new.csv', sep='\\t')\n",
    "item_profiles1 = pd.read_csv('../input/item-profiles1.csv', sep=';')\n",
    "item_profiles2 = pd.read_csv('../input/item-profiles2.csv', sep=';')\n",
    "item_profiles3 = pd.read_csv('../input/item-profiles3.csv', sep=';')\n",
    "ratings = pd.read_csv('../input/user-item-rating.csv', sep='\\t', names=['user_id','item_id','rating'])"
   ]
  },
  {
   "cell_type": "code",
   "execution_count": 4,
   "metadata": {},
   "outputs": [],
   "source": [
    "# We use an inner joint on the column 'Recipe ID' to join the datasets toghether."
   ]
  },
  {
   "cell_type": "code",
   "execution_count": 5,
   "metadata": {},
   "outputs": [],
   "source": [
    "all_item_profiles = item_profiles1.set_index('Recipe ID').join(item_profiles2.set_index('Recipe ID'), how= 'inner').join(item_profiles3.set_index('Recipe ID'), how= 'inner')"
   ]
  },
  {
   "cell_type": "code",
   "execution_count": 6,
   "metadata": {},
   "outputs": [
    {
     "data": {
      "text/html": [
       "<div>\n",
       "<style scoped>\n",
       "    .dataframe tbody tr th:only-of-type {\n",
       "        vertical-align: middle;\n",
       "    }\n",
       "\n",
       "    .dataframe tbody tr th {\n",
       "        vertical-align: top;\n",
       "    }\n",
       "\n",
       "    .dataframe thead th {\n",
       "        text-align: right;\n",
       "    }\n",
       "</style>\n",
       "<table border=\"1\" class=\"dataframe\">\n",
       "  <thead>\n",
       "    <tr style=\"text-align: right;\">\n",
       "      <th></th>\n",
       "      <th>Recipe ID</th>\n",
       "      <th>Ingredient ID</th>\n",
       "    </tr>\n",
       "  </thead>\n",
       "  <tbody>\n",
       "    <tr>\n",
       "      <th>0</th>\n",
       "      <td>1939</td>\n",
       "      <td>5045</td>\n",
       "    </tr>\n",
       "    <tr>\n",
       "      <th>1</th>\n",
       "      <td>1939</td>\n",
       "      <td>6350</td>\n",
       "    </tr>\n",
       "    <tr>\n",
       "      <th>2</th>\n",
       "      <td>1939</td>\n",
       "      <td>4397</td>\n",
       "    </tr>\n",
       "    <tr>\n",
       "      <th>3</th>\n",
       "      <td>1939</td>\n",
       "      <td>4181</td>\n",
       "    </tr>\n",
       "    <tr>\n",
       "      <th>4</th>\n",
       "      <td>771</td>\n",
       "      <td>1684</td>\n",
       "    </tr>\n",
       "  </tbody>\n",
       "</table>\n",
       "</div>"
      ],
      "text/plain": [
       "   Recipe ID  Ingredient ID\n",
       "0       1939           5045\n",
       "1       1939           6350\n",
       "2       1939           4397\n",
       "3       1939           4181\n",
       "4        771           1684"
      ]
     },
     "execution_count": 6,
     "metadata": {},
     "output_type": "execute_result"
    }
   ],
   "source": [
    "recipe_id_ingredient_id = item_profiles3[['Recipe ID', 'Ingredient ID']]\n",
    "recipe_id_ingredient_id.head(5)"
   ]
  },
  {
   "cell_type": "code",
   "execution_count": 7,
   "metadata": {},
   "outputs": [
    {
     "data": {
      "text/html": [
       "<div>\n",
       "<style scoped>\n",
       "    .dataframe tbody tr th:only-of-type {\n",
       "        vertical-align: middle;\n",
       "    }\n",
       "\n",
       "    .dataframe tbody tr th {\n",
       "        vertical-align: top;\n",
       "    }\n",
       "\n",
       "    .dataframe thead th {\n",
       "        text-align: right;\n",
       "    }\n",
       "</style>\n",
       "<table border=\"1\" class=\"dataframe\">\n",
       "  <thead>\n",
       "    <tr style=\"text-align: right;\">\n",
       "      <th></th>\n",
       "      <th>user_id</th>\n",
       "      <th>recipe_id</th>\n",
       "      <th>ingredient_id</th>\n",
       "      <th>rating</th>\n",
       "    </tr>\n",
       "  </thead>\n",
       "  <tbody>\n",
       "    <tr>\n",
       "      <th>0</th>\n",
       "      <td>455</td>\n",
       "      <td>50</td>\n",
       "      <td>20312</td>\n",
       "      <td>3.0</td>\n",
       "    </tr>\n",
       "    <tr>\n",
       "      <th>1</th>\n",
       "      <td>455</td>\n",
       "      <td>50</td>\n",
       "      <td>4397</td>\n",
       "      <td>3.0</td>\n",
       "    </tr>\n",
       "    <tr>\n",
       "      <th>2</th>\n",
       "      <td>455</td>\n",
       "      <td>50</td>\n",
       "      <td>4147</td>\n",
       "      <td>3.0</td>\n",
       "    </tr>\n",
       "    <tr>\n",
       "      <th>3</th>\n",
       "      <td>455</td>\n",
       "      <td>50</td>\n",
       "      <td>5803</td>\n",
       "      <td>3.0</td>\n",
       "    </tr>\n",
       "    <tr>\n",
       "      <th>4</th>\n",
       "      <td>455</td>\n",
       "      <td>50</td>\n",
       "      <td>16241</td>\n",
       "      <td>3.0</td>\n",
       "    </tr>\n",
       "  </tbody>\n",
       "</table>\n",
       "</div>"
      ],
      "text/plain": [
       "   user_id  recipe_id  ingredient_id  rating\n",
       "0      455         50          20312     3.0\n",
       "1      455         50           4397     3.0\n",
       "2      455         50           4147     3.0\n",
       "3      455         50           5803     3.0\n",
       "4      455         50          16241     3.0"
      ]
     },
     "execution_count": 7,
     "metadata": {},
     "output_type": "execute_result"
    }
   ],
   "source": [
    "ingredientRatings = ratings.merge(recipe_id_ingredient_id, left_on='item_id', right_on='Recipe ID')\n",
    "ingredientRatings = ingredientRatings[['user_id', 'item_id', 'Ingredient ID', 'rating']]\n",
    "ingredientRatings = ingredientRatings.rename(columns={'Ingredient ID': 'ingredient_id', 'item_id': 'recipe_id'})\n",
    "ingredientRatings.head(5)"
   ]
  },
  {
   "cell_type": "code",
   "execution_count": 8,
   "metadata": {},
   "outputs": [],
   "source": [
    "recipes_dict = defaultdict(list) \n",
    "ingredients_dict = defaultdict(lambda: defaultdict(list))      \n",
    "\n",
    "for user_id, recipe_id, ingredient_id, rating in ingredientRatings.itertuples(name='rating', index=False):\n",
    "    ingredients_dict[user_id][ingredient_id].append(rating)\n",
    "    recipes_dict[recipe_id].append(ingredient_id)\n",
    "    \n",
    "for key in ingredients_dict.copy().keys():\n",
    "    for value in ingredients_dict[key].copy().keys():\n",
    "        ingredients_dict[key][value]  = sum(ingredients_dict[key][value])/len(ingredients_dict[key][value])\n",
    "        \n",
    "        "
   ]
  },
  {
   "cell_type": "code",
   "execution_count": 9,
   "metadata": {},
   "outputs": [
    {
     "data": {
      "text/html": [
       "<div>\n",
       "<style scoped>\n",
       "    .dataframe tbody tr th:only-of-type {\n",
       "        vertical-align: middle;\n",
       "    }\n",
       "\n",
       "    .dataframe tbody tr th {\n",
       "        vertical-align: top;\n",
       "    }\n",
       "\n",
       "    .dataframe thead th {\n",
       "        text-align: right;\n",
       "    }\n",
       "</style>\n",
       "<table border=\"1\" class=\"dataframe\">\n",
       "  <thead>\n",
       "    <tr style=\"text-align: right;\">\n",
       "      <th></th>\n",
       "      <th>user_id</th>\n",
       "      <th>recipe_id</th>\n",
       "      <th>rating_est</th>\n",
       "    </tr>\n",
       "  </thead>\n",
       "  <tbody>\n",
       "    <tr>\n",
       "      <th>0</th>\n",
       "      <td>455</td>\n",
       "      <td>50</td>\n",
       "      <td>NaN</td>\n",
       "    </tr>\n",
       "    <tr>\n",
       "      <th>1</th>\n",
       "      <td>455</td>\n",
       "      <td>457</td>\n",
       "      <td>NaN</td>\n",
       "    </tr>\n",
       "    <tr>\n",
       "      <th>2</th>\n",
       "      <td>455</td>\n",
       "      <td>28</td>\n",
       "      <td>NaN</td>\n",
       "    </tr>\n",
       "    <tr>\n",
       "      <th>3</th>\n",
       "      <td>455</td>\n",
       "      <td>458</td>\n",
       "      <td>NaN</td>\n",
       "    </tr>\n",
       "    <tr>\n",
       "      <th>4</th>\n",
       "      <td>455</td>\n",
       "      <td>459</td>\n",
       "      <td>NaN</td>\n",
       "    </tr>\n",
       "    <tr>\n",
       "      <th>...</th>\n",
       "      <td>...</td>\n",
       "      <td>...</td>\n",
       "      <td>...</td>\n",
       "    </tr>\n",
       "    <tr>\n",
       "      <th>1312458</th>\n",
       "      <td>84839</td>\n",
       "      <td>997</td>\n",
       "      <td>NaN</td>\n",
       "    </tr>\n",
       "    <tr>\n",
       "      <th>1312459</th>\n",
       "      <td>84839</td>\n",
       "      <td>1251</td>\n",
       "      <td>NaN</td>\n",
       "    </tr>\n",
       "    <tr>\n",
       "      <th>1312460</th>\n",
       "      <td>84839</td>\n",
       "      <td>8085</td>\n",
       "      <td>NaN</td>\n",
       "    </tr>\n",
       "    <tr>\n",
       "      <th>1312461</th>\n",
       "      <td>84839</td>\n",
       "      <td>2051</td>\n",
       "      <td>NaN</td>\n",
       "    </tr>\n",
       "    <tr>\n",
       "      <th>1312462</th>\n",
       "      <td>84839</td>\n",
       "      <td>3287</td>\n",
       "      <td>NaN</td>\n",
       "    </tr>\n",
       "  </tbody>\n",
       "</table>\n",
       "<p>1312463 rows × 3 columns</p>\n",
       "</div>"
      ],
      "text/plain": [
       "         user_id  recipe_id  rating_est\n",
       "0            455         50         NaN\n",
       "1            455        457         NaN\n",
       "2            455         28         NaN\n",
       "3            455        458         NaN\n",
       "4            455        459         NaN\n",
       "...          ...        ...         ...\n",
       "1312458    84839        997         NaN\n",
       "1312459    84839       1251         NaN\n",
       "1312460    84839       8085         NaN\n",
       "1312461    84839       2051         NaN\n",
       "1312462    84839       3287         NaN\n",
       "\n",
       "[1312463 rows x 3 columns]"
      ]
     },
     "execution_count": 9,
     "metadata": {},
     "output_type": "execute_result"
    }
   ],
   "source": [
    "users = ratings['user_id'].drop_duplicates().to_frame()\n",
    "recipes = ratings['item_id'].drop_duplicates().to_frame().rename(columns={'item_id': 'recipe_id'})\n",
    "users['key'] = 1\n",
    "recipes['key'] = 1\n",
    "users_recipes = users.merge(recipes, how='outer').drop(\"key\", 1)\n",
    "users_recipes['rating_est'] = np.nan\n",
    "users_recipes['rating_est'] = np.nan\n",
    "users_recipes"
   ]
  },
  {
   "cell_type": "code",
   "execution_count": null,
   "metadata": {},
   "outputs": [],
   "source": []
  },
  {
   "cell_type": "code",
   "execution_count": null,
   "metadata": {},
   "outputs": [],
   "source": []
  },
  {
   "cell_type": "code",
   "execution_count": 28,
   "metadata": {},
   "outputs": [
    {
     "ename": "TypeError",
     "evalue": "unsupported operand type(s) for +=: 'float' and 'list'",
     "output_type": "error",
     "traceback": [
      "\u001b[1;31m---------------------------------------------------------------------------\u001b[0m",
      "\u001b[1;31mTypeError\u001b[0m                                 Traceback (most recent call last)",
      "\u001b[1;32m<ipython-input-28-d84ed0be9a46>\u001b[0m in \u001b[0;36m<module>\u001b[1;34m\u001b[0m\n\u001b[0;32m      7\u001b[0m         \u001b[0mtype\u001b[0m\u001b[1;33m(\u001b[0m\u001b[0mrating_est\u001b[0m\u001b[1;33m)\u001b[0m\u001b[1;33m\u001b[0m\u001b[1;33m\u001b[0m\u001b[0m\n\u001b[0;32m      8\u001b[0m         \u001b[0mtype\u001b[0m\u001b[1;33m(\u001b[0m\u001b[0mfoo\u001b[0m\u001b[1;33m)\u001b[0m\u001b[1;33m\u001b[0m\u001b[1;33m\u001b[0m\u001b[0m\n\u001b[1;32m----> 9\u001b[1;33m         \u001b[0mrating_est\u001b[0m \u001b[1;33m+=\u001b[0m \u001b[0mfoo\u001b[0m\u001b[1;33m\u001b[0m\u001b[1;33m\u001b[0m\u001b[0m\n\u001b[0m\u001b[0;32m     10\u001b[0m         \u001b[0mcounter\u001b[0m \u001b[1;33m+=\u001b[0m \u001b[1;36m1\u001b[0m\u001b[1;33m\u001b[0m\u001b[1;33m\u001b[0m\u001b[0m\n\u001b[0;32m     11\u001b[0m     \u001b[0mcontent_based_predictions\u001b[0m\u001b[1;33m[\u001b[0m\u001b[0muser_id\u001b[0m\u001b[1;33m]\u001b[0m\u001b[1;33m[\u001b[0m\u001b[0mrecipe_id\u001b[0m\u001b[1;33m]\u001b[0m \u001b[1;33m=\u001b[0m \u001b[0mrating_est\u001b[0m\u001b[1;33m/\u001b[0m\u001b[0mcounter\u001b[0m\u001b[1;33m\u001b[0m\u001b[1;33m\u001b[0m\u001b[0m\n",
      "\u001b[1;31mTypeError\u001b[0m: unsupported operand type(s) for +=: 'float' and 'list'"
     ]
    }
   ],
   "source": [
    "content_based_predictions = defaultdict(lambda: defaultdict())                        \n",
    "for user_id, recipe_id, _ in users_recipes.itertuples(name='predictions', index=False):\n",
    "    rating_est = 0.0\n",
    "    counter = 0\n",
    "    for ingredient_id in recipes_dict[recipe_id]:\n",
    "        foo = ingredients_dict[user_id][ingredient_id]\n",
    "        type(rating_est)\n",
    "        type(foo)\n",
    "        rating_est += foo\n",
    "        counter += 1\n",
    "    content_based_predictions[user_id][recipe_id] = rating_est/counter"
   ]
  },
  {
   "cell_type": "code",
   "execution_count": null,
   "metadata": {},
   "outputs": [],
   "source": []
  },
  {
   "cell_type": "code",
   "execution_count": null,
   "metadata": {},
   "outputs": [],
   "source": []
  },
  {
   "cell_type": "code",
   "execution_count": null,
   "metadata": {},
   "outputs": [],
   "source": []
  },
  {
   "cell_type": "code",
   "execution_count": null,
   "metadata": {},
   "outputs": [],
   "source": []
  },
  {
   "cell_type": "code",
   "execution_count": null,
   "metadata": {},
   "outputs": [],
   "source": []
  },
  {
   "cell_type": "code",
   "execution_count": null,
   "metadata": {},
   "outputs": [],
   "source": []
  },
  {
   "cell_type": "code",
   "execution_count": null,
   "metadata": {
    "scrolled": true
   },
   "outputs": [],
   "source": [
    "item_profiles = item_profiles1.set_index('Recipe ID').join(item_profiles2.set_index('Recipe ID'), how= 'inner')#.join(item_profiles3.set_index('Recipe ID'), how= 'inner')"
   ]
  },
  {
   "cell_type": "code",
   "execution_count": null,
   "metadata": {},
   "outputs": [],
   "source": [
    "# We use this healthiness method to calculate the healthiness of recipes, and to set weights for the post filtering."
   ]
  },
  {
   "cell_type": "code",
   "execution_count": null,
   "metadata": {},
   "outputs": [],
   "source": [
    "def healthiness(itemsDataframe):\n",
    "    \n",
    "    # Calculate the energy percentage of each relevant macronutrient. 1g of fat contains 9 kCal. \n",
    "    fat = ((itemsDataframe['Fat (g)'] * 9) / itemsDataframe['Calories (kCal)']) * 100\n",
    "    sugar = ((itemsDataframe['Sugar (g)'] * 4) / itemsDataframe['Calories (kCal)']) * 100\n",
    "    saturatedFat = ((itemsDataframe['Saturated Fat (g)'] * 9) / itemsDataframe['Calories (kCal)']) * 100\n",
    "    \n",
    "    # This calculates a continous version of the healthiness score. Fat/3 because the recommended limit for fat is 3X the others.\n",
    "    itemsDataframe['Unhealtiness'] = (fat / 3) + sugar + saturatedFat\n",
    "    \n",
    "    # These are bounderies and points are tunable to influence \n",
    "    # post filter weights in accordence with the health recommendations.\n",
    "    itemsDataframe.loc[fat > 30, 'fatPoints'] = 0\n",
    "    itemsDataframe.loc[fat >= 40, 'fatPoints'] = -1\n",
    "    itemsDataframe.loc[fat >= 50, 'fatPoints'] = -2\n",
    "    itemsDataframe.loc[fat >= 60, 'fatPoints'] = -3\n",
    "    itemsDataframe.loc[fat >= 70, 'fatPoints'] = -4\n",
    "    itemsDataframe.loc[fat >= 80, 'fatPoints'] = -5\n",
    "    itemsDataframe.loc[fat <= 30, 'fatPoints'] = 1 \n",
    "    itemsDataframe.loc[fat <= 20, 'fatPoints'] = 2\n",
    "    itemsDataframe.loc[fat <= 10, 'fatPoints'] = 3\n",
    "    itemsDataframe.loc[fat <= 5, 'fatPoints'] = 4 \n",
    "    itemsDataframe.loc[fat <= 1, 'fatPoints'] = 5\n",
    "\n",
    "    itemsDataframe.loc[sugar > 10, 'sugarPoints'] = 0\n",
    "    itemsDataframe.loc[sugar >= 13, 'sugarPoints'] = -1\n",
    "    itemsDataframe.loc[sugar >= 16, 'sugarPoints'] = -2\n",
    "    itemsDataframe.loc[sugar >= 19, 'sugarPoints'] = -3\n",
    "    itemsDataframe.loc[sugar >= 22, 'sugarPoints'] = -4\n",
    "    itemsDataframe.loc[sugar >= 25, 'sugarPoints'] = -5\n",
    "    itemsDataframe.loc[sugar <= 10, 'sugarPoints'] = 1 \n",
    "    itemsDataframe.loc[sugar <= 7, 'sugarPoints'] = 2\n",
    "    itemsDataframe.loc[sugar <= 5, 'sugarPoints'] = 3 \n",
    "    itemsDataframe.loc[sugar <= 3, 'sugarPoints'] = 4\n",
    "    itemsDataframe.loc[sugar <= 1, 'sugarPoints'] = 5 \n",
    "        \n",
    "    itemsDataframe.loc[saturatedFat > 10, 'satFatPoints'] = 0\n",
    "    itemsDataframe.loc[saturatedFat >= 13, 'satFatPoints'] = -1\n",
    "    itemsDataframe.loc[saturatedFat >= 16, 'satFatPoints'] = -2\n",
    "    itemsDataframe.loc[saturatedFat >= 19, 'satFatPoints'] = -3\n",
    "    itemsDataframe.loc[saturatedFat >= 22, 'satFatPoints'] = -4\n",
    "    itemsDataframe.loc[saturatedFat >= 25, 'satFatPoints'] = -5\n",
    "    itemsDataframe.loc[saturatedFat <= 10, 'satFatPoints'] = 1 \n",
    "    itemsDataframe.loc[saturatedFat <= 7, 'satFatPoints'] = 2\n",
    "    itemsDataframe.loc[saturatedFat <= 5, 'satFatPoints'] = 3 \n",
    "    itemsDataframe.loc[saturatedFat <= 3, 'satFatPoints'] = 4\n",
    "    itemsDataframe.loc[saturatedFat <= 1, 'satFatPoints'] = 5 \n",
    "        \n",
    "       \n",
    "    itemsDataframe['Healthiness'] = itemsDataframe['fatPoints'] + itemsDataframe['satFatPoints'] + itemsDataframe['sugarPoints']"
   ]
  },
  {
   "cell_type": "code",
   "execution_count": null,
   "metadata": {},
   "outputs": [],
   "source": [
    "# Apply healthiness evaluation to each recipe"
   ]
  },
  {
   "cell_type": "code",
   "execution_count": null,
   "metadata": {},
   "outputs": [],
   "source": [
    "healthiness(item_profiles)"
   ]
  },
  {
   "cell_type": "code",
   "execution_count": null,
   "metadata": {},
   "outputs": [],
   "source": [
    "from collections import defaultdict\n",
    "from sklearn.metrics import ndcg_score\n",
    "\n",
    "def evaluations_at_k(predictions):\n",
    "\n",
    "    # K is the number of highest ranking predictions to consider\n",
    "    k = 10\n",
    "    # This is the threshold for what is considered an adequate recommendation.\n",
    "    threshold = 3.5\n",
    "    \n",
    "    # We map the predictions to the users. uid=user identity, iid=item identity, true_r[ating], est[imated rating]. \n",
    "    top_n = defaultdict(list)\n",
    "    for uid, iid, true_r, est, _ in predictions:\n",
    "        top_n[uid].append((iid, est))\n",
    "\n",
    "    # Sort the predictions for each user and retrieve the k highest ones and put them in a dictionary.\n",
    "    for uid, user_ratings in top_n.items():\n",
    "        user_ratings.sort(key=lambda x: x[1], reverse=True)\n",
    "        top_n[uid] = user_ratings[:k]\n",
    "        \n",
    "    # Remove the dictionary entries that didn't have enough ratings because of the data partitioning. \n",
    "    top_k = top_n.copy()\n",
    "    for uid, user_ratings in top_k.items():\n",
    "        if (len(top_k[uid]) != 10):\n",
    "            top_n.pop(uid)\n",
    "            \n",
    "    # Calculate the healthiness average of all recommendations. \n",
    "    # 0 = the tipping point between inside and outside of HDR recommendations. Negative value means unhealthy.\n",
    "    healthinessAverage = 0\n",
    "    count = 0\n",
    "    for x in top_k.items():\n",
    "        count =  count + 1\n",
    "        healthiness = 0\n",
    "        for y in x[1]:\n",
    "            healthiness = healthiness + item_profiles.at[y[0], 'Healthiness']\n",
    "        healthinessAverage = healthinessAverage + (healthiness/10)\n",
    "    \n",
    "    healthinessAverage = healthinessAverage/count\n",
    "    \n",
    "    # This time we put put the estimated rating and the true rating in the dictionary.\n",
    "    user_est_true = defaultdict(list)\n",
    "    for uid, _, true_r, est, _ in predictions:\n",
    "        user_est_true[uid].append((est, true_r))\n",
    "\n",
    "    precisions = dict()\n",
    "    recalls = dict()\n",
    "    for uid, user_ratings in user_est_true.items():\n",
    "        \n",
    "        # Sort user ratings by estimated value\n",
    "        user_ratings.sort(key=lambda x: x[0], reverse=True)\n",
    "\n",
    "        # Number of relevant items\n",
    "        n_rel = sum((true_r >= threshold) for (_, true_r) in user_ratings)\n",
    "\n",
    "        # Number of recommended items in top k\n",
    "        n_rec_k = sum((est >= threshold) for (est, _) in user_ratings[:k])\n",
    "\n",
    "        # Number of relevant and recommended items in top k\n",
    "        n_rel_and_rec_k = sum(((true_r >= threshold) and (est >= threshold))\n",
    "                              for (est, true_r) in user_ratings[:k])\n",
    "\n",
    "        # Precision@K: Proportion of recommended items that are relevant\n",
    "        # When n_rec_k is 0, Precision is undefined. We here set it to 0.\n",
    "\n",
    "        precisions[uid] = n_rel_and_rec_k / n_rec_k if n_rec_k != 0 else 0\n",
    "\n",
    "        # Recall@K: Proportion of relevant items that are recommended\n",
    "        # When n_rel is 0, Recall is undefined. We here set it to 0.\n",
    "\n",
    "        recalls[uid] = n_rel_and_rec_k / n_rel if n_rel != 0 else 0\n",
    "        \n",
    "    # Extract relevant lists from the named tuples in predictions, and calculate NDCG.\n",
    "    predictions_list = [[x[3] for x in predictions]]\n",
    "    true_scores = [[x[2] for x in predictions]]\n",
    "    ndcg = ndcg_score(true_scores, predictions_list, k)\n",
    "    \n",
    "    # Calculate the averages of precision and recall\n",
    "    precision = (sum(prec for prec in precisions.values())) / len(precisions)\n",
    "    recall = (sum(rec for rec in recalls.values())) / len(recalls)\n",
    "    \n",
    "    \n",
    "    return precision, recall, ndcg, healthinessAverage\n",
    "    "
   ]
  },
  {
   "cell_type": "code",
   "execution_count": null,
   "metadata": {},
   "outputs": [],
   "source": [
    "from surprise import SVD\n",
    "from surprise import Dataset\n",
    "from surprise import accuracy\n",
    "from surprise import Reader\n",
    "from surprise.model_selection import KFold\n",
    "from surprise.model_selection import cross_validate\n",
    "\n",
    "\n",
    "#Define a Reader object\n",
    "#The Reader object helps in parsing the file or dataframe containing ratings\n",
    "reader = Reader()\n",
    "\n",
    "#Create the dataset to be used for building the filter\n",
    "data = Dataset.load_from_df(ratings, reader)\n",
    "\n",
    "# The algoritm to be used, SVD.\n",
    "svd = SVD()\n",
    "\n",
    "# We use 5 fold cross evaluation.\n",
    "kf = KFold(n_splits=5)\n",
    "\n",
    "# Run the algorithm 5 times and evaluate.\n",
    "for trainset, testset in kf.split(data):\n",
    "    svd.fit(trainset)\n",
    "    predictions = svd.test(testset)\n",
    "    precision, recall, ndcg, healthinessAverage = evaluations_at_k(predictions)\n",
    "    \n",
    "    print(\"Precision:\", precision, \"Recall:\", recall, \"NDCG_score:\", ndcg, \"Healthiness:\", healthinessAverage)"
   ]
  },
  {
   "cell_type": "code",
   "execution_count": null,
   "metadata": {},
   "outputs": [],
   "source": [
    "# This is the post filter method. Suprise predictions are given in a list of immutable tuples.\n",
    "# To post filter the predictions we make a dataframe of the predictions list, change the predictions,\n",
    "# and make a new list of tuples."
   ]
  },
  {
   "cell_type": "code",
   "execution_count": null,
   "metadata": {
    "scrolled": true
   },
   "outputs": [],
   "source": [
    "def postfilter(predictions, healthinessFactor):\n",
    "    predictionsDF = pd.DataFrame.from_records(predictions, columns=['uid', 'iid', 'r_ui', 'est', 'details'])\n",
    "    ratingsProcessed = predictionsDF.copy()\n",
    "    ratingsProcessed = ratingsProcessed.join(item_profiles['Healthiness'], how= 'inner', on= 'iid', sort=False)\n",
    "    # This is were the values are transformed based on the healthinessFactor constructor and the health points of the recipes.\n",
    "    ratingsProcessed['est'] = ratingsProcessed['est'] + (ratingsProcessed['Healthiness']*healthinessFactor)\n",
    "    ratingsProcessed.drop(labels='Healthiness', axis=1, inplace=True)\n",
    "    ratingsProcessed = list(ratingsProcessed.itertuples(name='Prediction', index=False))\n",
    "    return ratingsProcessed"
   ]
  },
  {
   "cell_type": "code",
   "execution_count": null,
   "metadata": {},
   "outputs": [],
   "source": [
    "# We run the algoritm again, but this time we use post filtering and automatic tuning."
   ]
  },
  {
   "cell_type": "code",
   "execution_count": null,
   "metadata": {},
   "outputs": [],
   "source": [
    "from surprise.model_selection import GridSearchCV\n",
    "\n",
    "reader = Reader()\n",
    "data = Dataset.load_from_df(ratings, reader)\n",
    "# there is a trade off between NDCG score and recall. Tuning the parameters may increase one and lower the other, or lower both..\n",
    "param_grid = {'n_epochs': [5,5], 'lr_all': [0.01, 0.1], 'reg_all':[0.01,0.1]}\n",
    "grid_search = GridSearchCV(SVD, param_grid, measures=['rmse'], cv=3)\n",
    "grid_search.fit(data)\n",
    "print(grid_search.best_params['rmse'])\n",
    "svd = grid_search.best_estimator['rmse']"
   ]
  },
  {
   "cell_type": "code",
   "execution_count": null,
   "metadata": {},
   "outputs": [],
   "source": [
    "kf = KFold(n_splits=5)\n",
    "\n",
    "precisionAvg = 0\n",
    "recallAvg = 0\n",
    "ndcgAvg = 0\n",
    "healthinessAvg = 0\n",
    "for trainset, testset in kf.split(data):\n",
    "    svd.fit(trainset)\n",
    "    # The second parameter is the post fileter healthiness factor.\n",
    "    predictions = postfilter(svd.test(testset), 0.1)\n",
    "    precision, recall, ndcg, healthinessAverage = evaluations_at_k(predictions)\n",
    "    precisionAvg = precisionAvg + precision\n",
    "    recallAvg = recallAvg + recall\n",
    "    ndcgAvg = ndcgAvg + ndcg\n",
    "    healthinessAvg = healthinessAvg + healthinessAverage\n",
    "    \n",
    "print(\"Precision:\", precisionAvg/5, \"Recall:\", recallAvg/5, \"NDCG_score:\", ndcgAvg/5, \"Healthiness:\", healthinessAvg/5)"
   ]
  },
  {
   "cell_type": "code",
   "execution_count": null,
   "metadata": {},
   "outputs": [],
   "source": [
    "Precision: 0.8712420729999429 Recall: 0.9178423083126048 NDCG_score: 0.9377159117569617 Healthiness: -0.039079338783746434"
   ]
  },
  {
   "cell_type": "code",
   "execution_count": null,
   "metadata": {},
   "outputs": [],
   "source": []
  },
  {
   "cell_type": "code",
   "execution_count": null,
   "metadata": {},
   "outputs": [],
   "source": []
  },
  {
   "cell_type": "code",
   "execution_count": null,
   "metadata": {},
   "outputs": [],
   "source": []
  },
  {
   "cell_type": "code",
   "execution_count": null,
   "metadata": {},
   "outputs": [],
   "source": []
  },
  {
   "cell_type": "code",
   "execution_count": null,
   "metadata": {},
   "outputs": [],
   "source": []
  },
  {
   "cell_type": "code",
   "execution_count": null,
   "metadata": {},
   "outputs": [],
   "source": []
  },
  {
   "cell_type": "code",
   "execution_count": null,
   "metadata": {},
   "outputs": [],
   "source": []
  },
  {
   "cell_type": "code",
   "execution_count": null,
   "metadata": {},
   "outputs": [],
   "source": []
  },
  {
   "cell_type": "code",
   "execution_count": null,
   "metadata": {},
   "outputs": [],
   "source": []
  },
  {
   "cell_type": "code",
   "execution_count": null,
   "metadata": {},
   "outputs": [],
   "source": []
  },
  {
   "cell_type": "code",
   "execution_count": null,
   "metadata": {},
   "outputs": [],
   "source": []
  },
  {
   "cell_type": "code",
   "execution_count": null,
   "metadata": {},
   "outputs": [],
   "source": []
  },
  {
   "cell_type": "code",
   "execution_count": null,
   "metadata": {},
   "outputs": [],
   "source": []
  },
  {
   "cell_type": "code",
   "execution_count": null,
   "metadata": {},
   "outputs": [],
   "source": []
  },
  {
   "cell_type": "code",
   "execution_count": null,
   "metadata": {},
   "outputs": [],
   "source": []
  },
  {
   "cell_type": "code",
   "execution_count": null,
   "metadata": {},
   "outputs": [],
   "source": []
  },
  {
   "cell_type": "code",
   "execution_count": null,
   "metadata": {},
   "outputs": [],
   "source": []
  },
  {
   "cell_type": "code",
   "execution_count": null,
   "metadata": {},
   "outputs": [],
   "source": []
  },
  {
   "cell_type": "code",
   "execution_count": null,
   "metadata": {},
   "outputs": [],
   "source": []
  },
  {
   "cell_type": "code",
   "execution_count": null,
   "metadata": {},
   "outputs": [],
   "source": []
  },
  {
   "cell_type": "code",
   "execution_count": null,
   "metadata": {},
   "outputs": [],
   "source": []
  },
  {
   "cell_type": "code",
   "execution_count": null,
   "metadata": {},
   "outputs": [],
   "source": []
  },
  {
   "cell_type": "code",
   "execution_count": null,
   "metadata": {},
   "outputs": [],
   "source": []
  },
  {
   "cell_type": "code",
   "execution_count": null,
   "metadata": {},
   "outputs": [],
   "source": []
  }
 ],
 "metadata": {
  "kernelspec": {
   "display_name": "Python 3",
   "language": "python",
   "name": "python3"
  },
  "language_info": {
   "codemirror_mode": {
    "name": "ipython",
    "version": 3
   },
   "file_extension": ".py",
   "mimetype": "text/x-python",
   "name": "python",
   "nbconvert_exporter": "python",
   "pygments_lexer": "ipython3",
   "version": "3.8.6"
  }
 },
 "nbformat": 4,
 "nbformat_minor": 4
}
