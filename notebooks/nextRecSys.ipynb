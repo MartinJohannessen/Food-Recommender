{
 "cells": [
  {
   "cell_type": "code",
   "execution_count": 1,
   "metadata": {},
   "outputs": [],
   "source": [
    "import pandas as pd\n",
    "import numpy as np"
   ]
  },
  {
   "cell_type": "code",
   "execution_count": 2,
   "metadata": {},
   "outputs": [],
   "source": [
    "BMJ_data_all__b_new = pd.read_csv('../input/BMJ-data-all--b-new.csv', sep='\\t')\n",
    "item_profiles1 = pd.read_csv('../input/item-profiles1.csv', sep=';')\n",
    "item_profiles2 = pd.read_csv('../input/item-profiles2.csv', sep=';')\n",
    "item_profiles3 = pd.read_csv('../input/item-profiles3.csv', sep=';')\n",
    "ratings = pd.read_csv('../input/user-item-rating.csv', sep='\\t', names=['user_id','item_id','rating'])"
   ]
  },
  {
   "cell_type": "code",
   "execution_count": 3,
   "metadata": {
    "scrolled": true
   },
   "outputs": [],
   "source": [
    "item_profiles = item_profiles1.set_index('Recipe ID').join(item_profiles2.set_index('Recipe ID'), how= 'inner')#.join(item_profiles3.set_index('Recipe ID'), how= 'inner')"
   ]
  },
  {
   "cell_type": "code",
   "execution_count": 4,
   "metadata": {},
   "outputs": [],
   "source": [
    "def healthiness(itemsDataframe):\n",
    "    \n",
    "    fat = ((itemsDataframe['Fat (g)'] * 9) / itemsDataframe['Calories (kCal)']) * 100\n",
    "    sugar = ((itemsDataframe['Sugar (g)'] * 4) / itemsDataframe['Calories (kCal)']) * 100\n",
    "    saturatedFat = ((itemsDataframe['Saturated Fat (g)'] * 9) / itemsDataframe['Calories (kCal)']) * 100\n",
    "    \n",
    "    itemsDataframe['Unhealtiness'] = (fat / 3) + sugar + saturatedFat\n",
    "    \n",
    "    itemsDataframe.loc[fat > 30, 'fatPoints'] = 0\n",
    "    itemsDataframe.loc[fat >= 40, 'fatPoints'] = -1\n",
    "    itemsDataframe.loc[fat >= 50, 'fatPoints'] = -2\n",
    "    itemsDataframe.loc[fat >= 60, 'fatPoints'] = -3\n",
    "    itemsDataframe.loc[fat >= 70, 'fatPoints'] = -4\n",
    "    itemsDataframe.loc[fat >= 80, 'fatPoints'] = -5\n",
    "    itemsDataframe.loc[fat <= 30, 'fatPoints'] = 1 \n",
    "    itemsDataframe.loc[fat <= 20, 'fatPoints'] = 2\n",
    "    itemsDataframe.loc[fat <= 10, 'fatPoints'] = 3\n",
    "    itemsDataframe.loc[fat <= 5, 'fatPoints'] = 4 \n",
    "    itemsDataframe.loc[fat <= 1, 'fatPoints'] = 5\n",
    "\n",
    "    itemsDataframe.loc[sugar > 10, 'sugarPoints'] = 0\n",
    "    itemsDataframe.loc[sugar >= 13, 'sugarPoints'] = -1\n",
    "    itemsDataframe.loc[sugar >= 16, 'sugarPoints'] = -2\n",
    "    itemsDataframe.loc[sugar >= 19, 'sugarPoints'] = -3\n",
    "    itemsDataframe.loc[sugar >= 22, 'sugarPoints'] = -4\n",
    "    itemsDataframe.loc[sugar >= 25, 'sugarPoints'] = -5\n",
    "    itemsDataframe.loc[sugar <= 10, 'sugarPoints'] = 1 \n",
    "    itemsDataframe.loc[sugar <= 7, 'sugarPoints'] = 2\n",
    "    itemsDataframe.loc[sugar <= 5, 'sugarPoints'] = 3 \n",
    "    itemsDataframe.loc[sugar <= 3, 'sugarPoints'] = 4\n",
    "    itemsDataframe.loc[sugar <= 1, 'sugarPoints'] = 5 \n",
    "        \n",
    "    itemsDataframe.loc[saturatedFat > 10, 'satFatPoints'] = 0\n",
    "    itemsDataframe.loc[saturatedFat >= 13, 'satFatPoints'] = -1\n",
    "    itemsDataframe.loc[saturatedFat >= 16, 'satFatPoints'] = -2\n",
    "    itemsDataframe.loc[saturatedFat >= 19, 'satFatPoints'] = -3\n",
    "    itemsDataframe.loc[saturatedFat >= 22, 'satFatPoints'] = -4\n",
    "    itemsDataframe.loc[saturatedFat >= 25, 'satFatPoints'] = -5\n",
    "    itemsDataframe.loc[saturatedFat <= 10, 'satFatPoints'] = 1 \n",
    "    itemsDataframe.loc[saturatedFat <= 7, 'satFatPoints'] = 2\n",
    "    itemsDataframe.loc[saturatedFat <= 5, 'satFatPoints'] = 3 \n",
    "    itemsDataframe.loc[saturatedFat <= 3, 'satFatPoints'] = 4\n",
    "    itemsDataframe.loc[saturatedFat <= 1, 'satFatPoints'] = 5 \n",
    "        \n",
    "       \n",
    "    itemsDataframe['Healthiness'] = itemsDataframe['fatPoints'] + itemsDataframe['satFatPoints'] + itemsDataframe['sugarPoints']"
   ]
  },
  {
   "cell_type": "code",
   "execution_count": 5,
   "metadata": {},
   "outputs": [],
   "source": [
    "healthiness(item_profiles)"
   ]
  },
  {
   "cell_type": "code",
   "execution_count": 7,
   "metadata": {},
   "outputs": [],
   "source": [
    "from collections import defaultdict\n",
    "from sklearn.metrics import ndcg_score\n",
    "\n",
    "def precision_recall_ndcg_at_k(predictions):\n",
    "    \"\"\"Return precision and recall at k metrics for each user\"\"\"\n",
    "    \n",
    "    k = 10\n",
    "    threshold = 3.5\n",
    "    \n",
    "    # First map the predictions to each user.\n",
    "    top_n = defaultdict(list)\n",
    "    for uid, iid, true_r, est, _ in predictions:\n",
    "        top_n[uid].append((iid, est))\n",
    "\n",
    "    # Then sort the predictions for each user and retrieve the k highest ones.\n",
    "    for uid, user_ratings in top_n.items():\n",
    "        user_ratings.sort(key=lambda x: x[1], reverse=True)\n",
    "        top_n[uid] = user_ratings[:k]\n",
    "        \n",
    "    top_k = top_n.copy()\n",
    "    for uid, user_ratings in top_k.items():\n",
    "        if (len(top_k[uid]) != 10):\n",
    "            top_n.pop(uid)\n",
    "            \n",
    "            \n",
    "    healthinessAverage = 0\n",
    "    count = 0\n",
    "    for x in top_k.items():\n",
    "        count =  count + 1\n",
    "        healthiness = 0\n",
    "        for y in x[1]:\n",
    "            healthiness = healthiness + item_profiles.at[y[0], 'Healthiness']\n",
    "        healthinessAverage = healthinessAverage + (healthiness/10)\n",
    "    \n",
    "    healthinessAverage = healthinessAverage/count\n",
    "    \n",
    "    # First map the predictions to each user.\n",
    "    user_est_true = defaultdict(list)\n",
    "    for uid, _, true_r, est, _ in predictions:\n",
    "        user_est_true[uid].append((est, true_r))\n",
    "\n",
    "    precisions = dict()\n",
    "    recalls = dict()\n",
    "    for uid, user_ratings in user_est_true.items():\n",
    "        \n",
    "        # Sort user ratings by estimated value\n",
    "        user_ratings.sort(key=lambda x: x[0], reverse=True)\n",
    "\n",
    "        # Number of relevant items\n",
    "        n_rel = sum((true_r >= threshold) for (_, true_r) in user_ratings)\n",
    "\n",
    "        # Number of recommended items in top k\n",
    "        n_rec_k = sum((est >= threshold) for (est, _) in user_ratings[:k])\n",
    "\n",
    "        # Number of relevant and recommended items in top k\n",
    "        n_rel_and_rec_k = sum(((true_r >= threshold) and (est >= threshold))\n",
    "                              for (est, true_r) in user_ratings[:k])\n",
    "\n",
    "        # Precision@K: Proportion of recommended items that are relevant\n",
    "        # When n_rec_k is 0, Precision is undefined. We here set it to 0.\n",
    "\n",
    "        precisions[uid] = n_rel_and_rec_k / n_rec_k if n_rec_k != 0 else 0\n",
    "\n",
    "        # Recall@K: Proportion of relevant items that are recommended\n",
    "        # When n_rel is 0, Recall is undefined. We here set it to 0.\n",
    "\n",
    "        recalls[uid] = n_rel_and_rec_k / n_rel if n_rel != 0 else 0\n",
    "        \n",
    "    predictions_list = [[x[3] for x in predictions]]\n",
    "    true_scores = [[x[2] for x in predictions]]\n",
    "    \n",
    "    \n",
    "    precision = (sum(prec for prec in precisions.values())) / len(precisions)\n",
    "    recall = (sum(rec for rec in recalls.values())) / len(recalls)\n",
    "    ndcg = ndcg_score(true_scores, predictions_list, k)\n",
    "    \n",
    "    return precision, recall, ndcg, healthinessAverage\n",
    "    "
   ]
  },
  {
   "cell_type": "code",
   "execution_count": 8,
   "metadata": {},
   "outputs": [
    {
     "name": "stderr",
     "output_type": "stream",
     "text": [
      "C:\\tools\\miniconda3\\envs\\recommender\\lib\\site-packages\\sklearn\\utils\\validation.py:67: FutureWarning: Pass k=10 as keyword args. From version 0.25 passing these as positional arguments will result in an error\n",
      "  warnings.warn(\"Pass {} as keyword args. From version 0.25 \"\n"
     ]
    },
    {
     "name": "stdout",
     "output_type": "stream",
     "text": [
      "Precision: 0.8667128745020146 Recall: 0.9237333195020958 NDCG_score: 0.9758865248226948 Healthiness: -0.44232887490165257\n"
     ]
    },
    {
     "name": "stderr",
     "output_type": "stream",
     "text": [
      "C:\\tools\\miniconda3\\envs\\recommender\\lib\\site-packages\\sklearn\\utils\\validation.py:67: FutureWarning: Pass k=10 as keyword args. From version 0.25 passing these as positional arguments will result in an error\n",
      "  warnings.warn(\"Pass {} as keyword args. From version 0.25 \"\n"
     ]
    },
    {
     "name": "stdout",
     "output_type": "stream",
     "text": [
      "Precision: 0.8763506482108373 Recall: 0.9189696978962386 NDCG_score: 0.9800623052959498 Healthiness: -0.49154818325434474\n"
     ]
    },
    {
     "name": "stderr",
     "output_type": "stream",
     "text": [
      "C:\\tools\\miniconda3\\envs\\recommender\\lib\\site-packages\\sklearn\\utils\\validation.py:67: FutureWarning: Pass k=10 as keyword args. From version 0.25 passing these as positional arguments will result in an error\n",
      "  warnings.warn(\"Pass {} as keyword args. From version 0.25 \"\n"
     ]
    },
    {
     "name": "stdout",
     "output_type": "stream",
     "text": [
      "Precision: 0.8764791049069994 Recall: 0.9244828716902457 NDCG_score: 0.9760273972602737 Healthiness: -0.4490149724192273\n"
     ]
    },
    {
     "name": "stderr",
     "output_type": "stream",
     "text": [
      "C:\\tools\\miniconda3\\envs\\recommender\\lib\\site-packages\\sklearn\\utils\\validation.py:67: FutureWarning: Pass k=10 as keyword args. From version 0.25 passing these as positional arguments will result in an error\n",
      "  warnings.warn(\"Pass {} as keyword args. From version 0.25 \"\n"
     ]
    },
    {
     "name": "stdout",
     "output_type": "stream",
     "text": [
      "Precision: 0.875293155936406 Recall: 0.9249663611947836 NDCG_score: 0.9691803278688523 Healthiness: -0.49881610102604584\n",
      "Precision: 0.8777668330268791 Recall: 0.9189274967771559 NDCG_score: 0.9702623906705538 Healthiness: -0.4535066981875489\n"
     ]
    },
    {
     "name": "stderr",
     "output_type": "stream",
     "text": [
      "C:\\tools\\miniconda3\\envs\\recommender\\lib\\site-packages\\sklearn\\utils\\validation.py:67: FutureWarning: Pass k=10 as keyword args. From version 0.25 passing these as positional arguments will result in an error\n",
      "  warnings.warn(\"Pass {} as keyword args. From version 0.25 \"\n"
     ]
    }
   ],
   "source": [
    "from surprise import SVD\n",
    "from surprise import Dataset\n",
    "from surprise import accuracy\n",
    "from surprise import Reader\n",
    "from surprise.model_selection import KFold\n",
    "from surprise.model_selection import cross_validate\n",
    "\n",
    "\n",
    "#Define a Reader object\n",
    "#The Reader object helps in parsing the file or dataframe containing ratings\n",
    "reader = Reader()\n",
    "\n",
    "#Create the dataset to be used for building the filter\n",
    "data = Dataset.load_from_df(ratings, reader)\n",
    "\n",
    "# We'll use the famous SVD algorithm.\n",
    "svd = SVD()\n",
    "\n",
    "kf = KFold(n_splits=5)\n",
    "\n",
    "\n",
    "for trainset, testset in kf.split(data):\n",
    "    svd.fit(trainset)\n",
    "    predictions = svd.test(testset)\n",
    "    precision, recall, ndcg, healthinessAverage = precision_recall_ndcg_at_k(predictions)\n",
    "    \n",
    "    print(\"Precision:\", precision, \"Recall:\", recall, \"NDCG_score:\", ndcg, \"Healthiness:\", healthinessAverage)"
   ]
  },
  {
   "cell_type": "code",
   "execution_count": null,
   "metadata": {},
   "outputs": [],
   "source": []
  },
  {
   "cell_type": "code",
   "execution_count": null,
   "metadata": {
    "scrolled": true
   },
   "outputs": [],
   "source": []
  },
  {
   "cell_type": "code",
   "execution_count": null,
   "metadata": {},
   "outputs": [],
   "source": []
  },
  {
   "cell_type": "code",
   "execution_count": null,
   "metadata": {},
   "outputs": [],
   "source": [
    "item_rating_count = ratings['item_id'].value_counts(normalize=False, sort=True, ascending=True)\n",
    "item_rating_count"
   ]
  },
  {
   "cell_type": "code",
   "execution_count": null,
   "metadata": {},
   "outputs": [],
   "source": [
    "item_profiles"
   ]
  },
  {
   "cell_type": "code",
   "execution_count": null,
   "metadata": {},
   "outputs": [],
   "source": []
  },
  {
   "cell_type": "code",
   "execution_count": null,
   "metadata": {},
   "outputs": [],
   "source": [
    "duplicate_count = item_profiles['Name'].value_counts(ascending=True)\n",
    "#duplicate_count"
   ]
  },
  {
   "cell_type": "code",
   "execution_count": null,
   "metadata": {},
   "outputs": [],
   "source": [
    "Healthiness_rating_count = item_profiles['Healthiness'].value_counts()\n",
    "Healthiness_rating_count"
   ]
  },
  {
   "cell_type": "code",
   "execution_count": null,
   "metadata": {},
   "outputs": [],
   "source": [
    "item_profiles_healthy = item_profiles2[item_profiles2.Healthiness != 0]\n",
    "Healthiness_rating_count_5 = item_profiles2_healthy['Healthiness'].value_counts(normalize=False, sort=True, ascending=True)\n",
    "Healthiness_rating_count_5"
   ]
  },
  {
   "cell_type": "code",
   "execution_count": null,
   "metadata": {},
   "outputs": [],
   "source": [
    "item_profiles2_very_healthy = item_profiles2[item_profiles2.fatPoints != 0]\n",
    "item_profiles2_very_healthy = item_profiles2_very_healthy[item_profiles2_very_healthy.satFatPoints != 0]\n",
    "item_profiles2_very_healthy = item_profiles2_very_healthy[item_profiles2_very_healthy.sugarPoints != 0]\n",
    "Healthiness_rating_count_4 = item_profiles2_very_healthy['Healthiness'].value_counts(normalize=False, sort=True, ascending=True)\n",
    "Healthiness_rating_count_4"
   ]
  },
  {
   "cell_type": "code",
   "execution_count": null,
   "metadata": {},
   "outputs": [],
   "source": []
  }
 ],
 "metadata": {
  "kernelspec": {
   "display_name": "Python 3",
   "language": "python",
   "name": "python3"
  },
  "language_info": {
   "codemirror_mode": {
    "name": "ipython",
    "version": 3
   },
   "file_extension": ".py",
   "mimetype": "text/x-python",
   "name": "python",
   "nbconvert_exporter": "python",
   "pygments_lexer": "ipython3",
   "version": "3.8.6"
  }
 },
 "nbformat": 4,
 "nbformat_minor": 4
}
